{
 "cells": [
  {
   "cell_type": "code",
   "execution_count": 1,
   "metadata": {},
   "outputs": [],
   "source": [
    "import numpy as np\n",
    "import pandas as pd\n",
    "import csv\n",
    "from lxml import etree\n",
    "from tqdm import tqdm\n",
    "import sys"
   ]
  },
  {
   "cell_type": "markdown",
   "metadata": {},
   "source": [
    "## Now it requires less memory, since writing to file is done line by line"
   ]
  },
  {
   "cell_type": "code",
   "execution_count": 2,
   "metadata": {},
   "outputs": [],
   "source": [
    "def convert_to_csv(input_file,tags,output_file):\n",
    "    \n",
    "    parser = etree.XMLParser(recover=True, remove_blank_text=True)\n",
    "    res = etree.parse(input_file, parser)    \n",
    "    \n",
    "    f = open(output_file,\"w+\")\n",
    "        \n",
    "    for row in tqdm(list(res.getroot())):\n",
    "\n",
    "        data_line = []\n",
    "        for tag in tags:\n",
    "            temp = row.get(tag)\n",
    "            if temp is None:\n",
    "                temp = 'NaN'\n",
    "            data_line.append(temp)  \n",
    "\n",
    "        to_write = ','.join(data_line)\n",
    "        f.write(to_write+'\\n')\n",
    "    return"
   ]
  },
  {
   "cell_type": "code",
   "execution_count": 2,
   "metadata": {},
   "outputs": [],
   "source": [
    "input_file=\"../stackexchange/PostHistory.xml\" \n",
    "output_file='../stackexchange/PostHistory.csv'"
   ]
  },
  {
   "cell_type": "code",
   "execution_count": null,
   "metadata": {},
   "outputs": [],
   "source": [
    "tags_posts = ['Id', 'PostTypeId', 'AcceptedAnswerId','LastEditorUserId','OwnerUserId','Tags', 'CreationDate', 'Score', 'ViewCount','Title', 'Body','AnswerCount','CommunityOwnedDate','CommentCount','LastEditDate','FavoriteCount','LastActivityDate','ClosedDate']\n",
    "tags_postHist = ['Id','PostHistoryTypeId','PostId','RevisionGUID','CreationDate','UserId','Text']\n",
    "tags_comments = ['Id','PostId','Score','Text','CreationDate','UserId']\n",
    "tags_votes = ['Id','PostId','VoteTypeId','UserId','CreationDate']\n",
    "tags_users = ['Id','Reputation','CreationDate','DisplayName','LastAccessDate','WebsiteUrl','Location','AboutMe','Views','UpVotes','DownVotes','AccountId']\n",
    "tags_tags = ['WikiPostId','ExcerptPostId','Count','TagName','Id']\n",
    "tags_post_links = ['Id','CreationDate','PostId','RelatedPostId','LinkTypeId']\n",
    "tags_badges = ['Id','UserId','Name','Date','Class','TagBased']"
   ]
  },
  {
   "cell_type": "code",
   "execution_count": 6,
   "metadata": {},
   "outputs": [],
   "source": [
    "convert_to_csv(input_file=input_file,output_file=output_file,tags=tags_postHist).head()"
   ]
  }
 ],
 "metadata": {
  "kernelspec": {
   "display_name": "Python 3",
   "language": "python",
   "name": "python3"
  },
  "language_info": {
   "codemirror_mode": {
    "name": "ipython",
    "version": 3
   },
   "file_extension": ".py",
   "mimetype": "text/x-python",
   "name": "python",
   "nbconvert_exporter": "python",
   "pygments_lexer": "ipython3",
   "version": "3.6.3"
  }
 },
 "nbformat": 4,
 "nbformat_minor": 2
}
